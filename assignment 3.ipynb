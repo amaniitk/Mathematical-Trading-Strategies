{
 "cells": [
  {
   "cell_type": "code",
   "execution_count": null,
   "id": "cf53bb19",
   "metadata": {},
   "outputs": [],
   "source": [
    "import yfinance as yf\n",
    "import matplotlib.pyplot as plt\n",
    "import pandas as pd\n",
    "\n",
    "# Taking these multinational companies stocks\n",
    "stock_symbols = ['AAPL', 'GOOGL', 'AMZN', 'MSFT', 'FB', 'JPM', 'TSLA', 'WMT', 'PG', 'JNJ']\n",
    "\n",
    "for symbol in stock_symbols:\n",
    "\n",
    "    stock_data = yf.download(symbol, start='2013-06-15', end='2023-06-15')\n",
    "\n",
    "    #Calculate moving averages for pattern identification\n",
    "    stock_data['SMA_50'] = stock_data['Close'].rolling(window=50).mean()\n",
    "    stock_data['SMA_200'] = stock_data['Close'].rolling(window=200).mean()\n",
    "\n",
    "    #Descending Triangle\n",
    "    descending_triangle = (stock_data['High'].rolling(window=30).max() == stock_data['High']) & \\\n",
    "                          (stock_data['Low'].rolling(window=30).min().shift(1) == stock_data['Low'])\n",
    "    stock_data['DescendingTriangle'] = descending_triangle.astype(int)\n",
    "\n",
    "    #Bull Flag\n",
    "    bull_flag = (stock_data['Close'].rolling(window=10).max() == stock_data['Close'])\n",
    "    stock_data['BullFlag'] = bull_flag.astype(int)\n",
    "\n",
    "    #Inverse Cup and Handle\n",
    "    inverse_cup_handle = (stock_data['Low'].rolling(window=30).min() == stock_data['Low']) & \\\n",
    "                         (stock_data['SMA_50'] < stock_data['SMA_200'])\n",
    "    stock_data['InverseCupHandle'] = inverse_cup_handle.astype(int)\n",
    "\n",
    "    #Inverse Head and Shoulder\n",
    "    inverse_head_shoulder = (stock_data['Low'].rolling(window=30).min() == stock_data['Low']) & \\\n",
    "                            (stock_data['Close'].rolling(window=10).max() == stock_data['Close'])\n",
    "    stock_data['InverseHeadShoulder'] = inverse_head_shoulder.astype(int)\n",
    "\n",
    "    #Rounding Bottom\n",
    "    rounding_bottom = (stock_data['Low'].rolling(window=30).min() == stock_data['Low']) & \\\n",
    "                      (stock_data['Close'].rolling(window=10).max() == stock_data['Close'])\n",
    "    stock_data['RoundingBottom'] = rounding_bottom.astype(int)\n",
    "\n",
    "    plt.figure(figsize=(12, 6))\n",
    "    plt.plot(stock_data.index, stock_data['Close'], label='Close')\n",
    "    plt.scatter(stock_data[stock_data['DescendingTriangle'] == 1].index, stock_data[stock_data['DescendingTriangle'] == 1]['Close'], marker='v', color='red', label='Descending Triangle')\n",
    "    plt.scatter(stock_data[stock_data['BullFlag'] == 1].index, stock_data[stock_data['BullFlag'] == 1]['Close'], marker='^', color='green', label='Bull Flag')\n",
    "    plt.scatter(stock_data[stock_data['InverseCupHandle'] == 1].index, stock_data[stock_data['InverseCupHandle'] == 1]['Close'], marker='o', color='blue', label='Inverse Cup and Handle')\n",
    "    plt.scatter(stock_data[stock_data['InverseHeadShoulder'] == 1].index, stock_data[stock_data['InverseHeadShoulder'] == 1]['Close'], marker='s', color='purple', label='Inverse Head and Shoulder')\n",
    "    plt.scatter(stock_data[stock_data['RoundingBottom'] == 1].index, stock_data[stock_data['RoundingBottom'] == 1]['Close'], marker='D', color='orange', label='Rounding Bottom')\n",
    "    plt.title(symbol + ' Stock Chart')\n",
    "    plt.xlabel('Date')\n",
    "    plt.ylabel('Close Price')\n",
    "    plt.legend()\n",
    "    plt.xticks(rotation=45)\n",
    "    plt.grid(True)\n",
    "    plt.show()"
   ]
  }
 ],
 "metadata": {
  "kernelspec": {
   "display_name": "Python 3 (ipykernel)",
   "language": "python",
   "name": "python3"
  },
  "language_info": {
   "codemirror_mode": {
    "name": "ipython",
    "version": 3
   },
   "file_extension": ".py",
   "mimetype": "text/x-python",
   "name": "python",
   "nbconvert_exporter": "python",
   "pygments_lexer": "ipython3",
   "version": "3.9.13"
  }
 },
 "nbformat": 4,
 "nbformat_minor": 5
}
